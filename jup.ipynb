{
 "cells": [
  {
   "metadata": {
    "ExecuteTime": {
     "end_time": "2025-03-09T17:26:01.576922Z",
     "start_time": "2025-03-09T17:25:54.420074Z"
    }
   },
   "cell_type": "code",
   "source": "!pip install selenium webdriver-manager pandas\n",
   "id": "c7d853db96b3a533",
   "outputs": [
    {
     "name": "stdout",
     "output_type": "stream",
     "text": [
      "Requirement already satisfied: selenium in c:\\users\\asus\\appdata\\local\\programs\\python\\python313\\lib\\site-packages (4.29.0)\n",
      "Requirement already satisfied: webdriver-manager in c:\\users\\asus\\appdata\\local\\programs\\python\\python313\\lib\\site-packages (4.0.2)\n",
      "Requirement already satisfied: pandas in c:\\users\\asus\\appdata\\local\\programs\\python\\python313\\lib\\site-packages (2.2.3)\n",
      "Requirement already satisfied: urllib3<3,>=1.26 in c:\\users\\asus\\appdata\\local\\programs\\python\\python313\\lib\\site-packages (from urllib3[socks]<3,>=1.26->selenium) (2.3.0)\n",
      "Requirement already satisfied: trio~=0.17 in c:\\users\\asus\\appdata\\local\\programs\\python\\python313\\lib\\site-packages (from selenium) (0.29.0)\n",
      "Requirement already satisfied: trio-websocket~=0.9 in c:\\users\\asus\\appdata\\local\\programs\\python\\python313\\lib\\site-packages (from selenium) (0.12.2)\n",
      "Requirement already satisfied: certifi>=2021.10.8 in c:\\users\\asus\\appdata\\local\\programs\\python\\python313\\lib\\site-packages (from selenium) (2025.1.31)\n",
      "Requirement already satisfied: typing_extensions~=4.9 in c:\\users\\asus\\appdata\\local\\programs\\python\\python313\\lib\\site-packages (from selenium) (4.12.2)\n",
      "Requirement already satisfied: websocket-client~=1.8 in c:\\users\\asus\\appdata\\local\\programs\\python\\python313\\lib\\site-packages (from selenium) (1.8.0)\n",
      "Requirement already satisfied: requests in c:\\users\\asus\\appdata\\local\\programs\\python\\python313\\lib\\site-packages (from webdriver-manager) (2.32.3)\n",
      "Requirement already satisfied: python-dotenv in c:\\users\\asus\\appdata\\local\\programs\\python\\python313\\lib\\site-packages (from webdriver-manager) (1.0.1)\n",
      "Requirement already satisfied: packaging in c:\\users\\asus\\appdata\\local\\programs\\python\\python313\\lib\\site-packages (from webdriver-manager) (24.2)\n",
      "Requirement already satisfied: numpy>=1.26.0 in c:\\users\\asus\\appdata\\local\\programs\\python\\python313\\lib\\site-packages (from pandas) (2.2.3)\n",
      "Requirement already satisfied: python-dateutil>=2.8.2 in c:\\users\\asus\\appdata\\local\\programs\\python\\python313\\lib\\site-packages (from pandas) (2.9.0.post0)\n",
      "Requirement already satisfied: pytz>=2020.1 in c:\\users\\asus\\appdata\\local\\programs\\python\\python313\\lib\\site-packages (from pandas) (2025.1)\n",
      "Requirement already satisfied: tzdata>=2022.7 in c:\\users\\asus\\appdata\\local\\programs\\python\\python313\\lib\\site-packages (from pandas) (2025.1)\n",
      "Requirement already satisfied: six>=1.5 in c:\\users\\asus\\appdata\\local\\programs\\python\\python313\\lib\\site-packages (from python-dateutil>=2.8.2->pandas) (1.17.0)\n",
      "Requirement already satisfied: attrs>=23.2.0 in c:\\users\\asus\\appdata\\local\\programs\\python\\python313\\lib\\site-packages (from trio~=0.17->selenium) (25.1.0)\n",
      "Requirement already satisfied: sortedcontainers in c:\\users\\asus\\appdata\\local\\programs\\python\\python313\\lib\\site-packages (from trio~=0.17->selenium) (2.4.0)\n",
      "Requirement already satisfied: idna in c:\\users\\asus\\appdata\\local\\programs\\python\\python313\\lib\\site-packages (from trio~=0.17->selenium) (3.10)\n",
      "Requirement already satisfied: outcome in c:\\users\\asus\\appdata\\local\\programs\\python\\python313\\lib\\site-packages (from trio~=0.17->selenium) (1.3.0.post0)\n",
      "Requirement already satisfied: sniffio>=1.3.0 in c:\\users\\asus\\appdata\\local\\programs\\python\\python313\\lib\\site-packages (from trio~=0.17->selenium) (1.3.1)\n",
      "Requirement already satisfied: cffi>=1.14 in c:\\users\\asus\\appdata\\local\\programs\\python\\python313\\lib\\site-packages (from trio~=0.17->selenium) (1.17.1)\n",
      "Requirement already satisfied: wsproto>=0.14 in c:\\users\\asus\\appdata\\local\\programs\\python\\python313\\lib\\site-packages (from trio-websocket~=0.9->selenium) (1.2.0)\n",
      "Requirement already satisfied: pysocks!=1.5.7,<2.0,>=1.5.6 in c:\\users\\asus\\appdata\\local\\programs\\python\\python313\\lib\\site-packages (from urllib3[socks]<3,>=1.26->selenium) (1.7.1)\n",
      "Requirement already satisfied: charset-normalizer<4,>=2 in c:\\users\\asus\\appdata\\local\\programs\\python\\python313\\lib\\site-packages (from requests->webdriver-manager) (3.4.1)\n",
      "Requirement already satisfied: pycparser in c:\\users\\asus\\appdata\\local\\programs\\python\\python313\\lib\\site-packages (from cffi>=1.14->trio~=0.17->selenium) (2.22)\n",
      "Requirement already satisfied: h11<1,>=0.9.0 in c:\\users\\asus\\appdata\\local\\programs\\python\\python313\\lib\\site-packages (from wsproto>=0.14->trio-websocket~=0.9->selenium) (0.14.0)\n"
     ]
    }
   ],
   "execution_count": 22
  },
  {
   "metadata": {
    "ExecuteTime": {
     "end_time": "2025-03-09T17:27:55.252917Z",
     "start_time": "2025-03-09T17:27:55.248185Z"
    }
   },
   "cell_type": "code",
   "source": [
    "import re\n",
    "import time\n",
    "import pandas as pd\n",
    "\n",
    "from selenium import webdriver\n",
    "from selenium.webdriver.chrome.service import Service\n",
    "from selenium.webdriver.common.by import By\n",
    "from webdriver_manager.chrome import ChromeDriverManager\n"
   ],
   "id": "2c3203d6f6134452",
   "outputs": [],
   "execution_count": 24
  },
  {
   "metadata": {
    "ExecuteTime": {
     "end_time": "2025-03-09T17:27:59.965494Z",
     "start_time": "2025-03-09T17:27:57.559203Z"
    }
   },
   "cell_type": "code",
   "source": [
    "options = webdriver.ChromeOptions()\n",
    "options.add_argument(\"--disable-gpu\")\n",
    "options.add_argument(\"--window-size=1920x1080\")\n",
    "\n",
    "service = Service(ChromeDriverManager().install())\n",
    "driver = webdriver.Chrome(service=service, options=options)\n"
   ],
   "id": "39d0145c24c4e202",
   "outputs": [],
   "execution_count": 25
  },
  {
   "metadata": {
    "ExecuteTime": {
     "end_time": "2025-03-09T17:28:19.944417Z",
     "start_time": "2025-03-09T17:28:10.050952Z"
    }
   },
   "cell_type": "code",
   "source": [
    "driver.get(\"https://www.rohlik.cz/hledat?q=ml%C3%A9%C4%8Dn%C4%9B%20v%C3%BDrobky&companyId=1\")\n",
    "time.sleep(5)  # počkej na načtení stránky\n"
   ],
   "id": "346853768c3c76fe",
   "outputs": [],
   "execution_count": 26
  },
  {
   "metadata": {
    "ExecuteTime": {
     "end_time": "2025-03-09T17:28:25.364331Z",
     "start_time": "2025-03-09T17:28:22.451207Z"
    }
   },
   "cell_type": "code",
   "source": [
    "data = []\n",
    "\n",
    "# Názvy a ceny (celkem)\n",
    "product_names  = driver.find_elements(By.CSS_SELECTOR, \"[data-test='productCard-body-name']\")\n",
    "product_prices = driver.find_elements(By.CSS_SELECTOR, \"[data-test='productCard-body-price']\")\n",
    "\n",
    "# Hmotnost a cena/kg (unit price)\n",
    "product_weights    = driver.find_elements(By.CSS_SELECTOR, \"[data-test='productCard-footer-amount']\")\n",
    "product_unitprices = driver.find_elements(By.CSS_SELECTOR, \"[data-test='productCard-footer-unitPrice']\")\n",
    "\n",
    "# Odkaz na detail produktu\n",
    "product_links = driver.find_elements(By.CSS_SELECTOR, \"[data-test='productCard-header-image'] a\")\n",
    "\n",
    "# Ověříme, zda je všech pět seznamů stejné délky\n",
    "if (\n",
    "    len(product_names)     == len(product_prices)   ==\n",
    "    len(product_weights)   == len(product_unitprices) ==\n",
    "    len(product_links)\n",
    "):\n",
    "    for name_el, price_el, weight_el, unitprice_el, link_el in zip(\n",
    "        product_names, product_prices, product_weights, product_unitprices, product_links\n",
    "    ):\n",
    "        # Název\n",
    "        name_text = name_el.text.strip()\n",
    "\n",
    "        # Cena celkem\n",
    "        raw_price = price_el.text.replace(\"\\n\", \"\").replace(\"\\u00a0\", \"\").strip()\n",
    "        raw_price = raw_price.replace(\"Kč\", \"\").strip()\n",
    "        price_with_dot = re.sub(r'\\s+', '.', raw_price)\n",
    "        if re.match(r'^\\d{4}$', price_with_dot):\n",
    "            price_with_dot = price_with_dot[:2] + '.' + price_with_dot[2:]\n",
    "        elif re.match(r'^\\d{3}$', price_with_dot):\n",
    "            price_with_dot = price_with_dot[0] + '.' + price_with_dot[1:]\n",
    "        try:\n",
    "            price_float = float(price_with_dot)\n",
    "            final_price = f\"{price_float:.2f}\".replace('.', ',') + \" Kč\"\n",
    "        except ValueError:\n",
    "            final_price = \"0,00 Kč\"\n",
    "\n",
    "        # Hmotnost\n",
    "        weight_text = weight_el.text.strip()\n",
    "\n",
    "        # Cena za 1 kg\n",
    "        unit_text = unitprice_el.text.strip()\n",
    "\n",
    "        # Odkaz na detail\n",
    "        relative_url = link_el.get_attribute(\"href\")\n",
    "        full_url = relative_url\n",
    "\n",
    "        data.append([name_text, final_price, weight_text, unit_text, full_url])\n",
    "else:\n",
    "    print(\"⚠️ POZOR! Počet prvků nesedí. Zkontroluj selektory.\")\n",
    "\n",
    "# Zavření driveru\n",
    "driver.quit()\n",
    "\n",
    "print(f\"Načteno produktů: {len(data)}\")\n"
   ],
   "id": "393d043e02e701f1",
   "outputs": [
    {
     "name": "stdout",
     "output_type": "stream",
     "text": [
      "Načteno produktů: 12\n"
     ]
    }
   ],
   "execution_count": 27
  },
  {
   "metadata": {
    "ExecuteTime": {
     "end_time": "2025-03-09T17:28:29.723568Z",
     "start_time": "2025-03-09T17:28:29.707849Z"
    }
   },
   "cell_type": "code",
   "source": [
    "df = pd.DataFrame(data, columns=[\"Název\", \"Cena\", \"Hmotnost\", \"Cena/kg\", \"Odkaz\"])\n",
    "\n",
    "# Náhled dat v notebooku\n",
    "df.head(10)\n"
   ],
   "id": "7c15e993c256c37f",
   "outputs": [
    {
     "data": {
      "text/plain": [
       "                                               Název      Cena Hmotnost  \\\n",
       "0                Philadelphia Original Smetanový sýr  68,00 Kč    200 g   \n",
       "1                Philadelphia Original Smetanový sýr  61,90 Kč    125 g   \n",
       "2                 Président Delikátní tvaroh pažitka  27,90 Kč    125 g   \n",
       "3               Président Delikátní tvaroh ředkvička  27,90 Kč    125 g   \n",
       "4                   Président Delikátní tvaroh rajče  27,90 Kč    125 g   \n",
       "5                         Président Delikátní tvaroh  27,90 Kč    125 g   \n",
       "6                               Eru Gouda tavený sýr  36,90 Kč    100 g   \n",
       "7  Pragolaktos Trvanlivé plnotučné mléko bez lakt...  30,90 Kč      1 l   \n",
       "8       Parmareggio Tavený sýr s Parmigiano Reggiano  55,40 Kč    140 g   \n",
       "9         Pragolaktos Trvanlivé mléko 3,5% plnotučné  28,90 Kč      1 l   \n",
       "\n",
       "        Cena/kg                                              Odkaz  \n",
       "0     340 Kč/kg  https://www.rohlik.cz/1410229-philadelphia-ori...  \n",
       "1   495.2 Kč/kg  https://www.rohlik.cz/761943-philadelphia-orig...  \n",
       "2   223.2 Kč/kg  https://www.rohlik.cz/1437935-president-delika...  \n",
       "3   223.2 Kč/kg  https://www.rohlik.cz/1437934-president-delika...  \n",
       "4   223.2 Kč/kg  https://www.rohlik.cz/1437936-president-delika...  \n",
       "5   223.2 Kč/kg  https://www.rohlik.cz/1437933-president-delika...  \n",
       "6     369 Kč/kg  https://www.rohlik.cz/1437187-eru-gouda-taveny...  \n",
       "7     30.9 Kč/l  https://www.rohlik.cz/1422152-pragolaktos-trva...  \n",
       "8  395.71 Kč/kg  https://www.rohlik.cz/1376087-parmareggio-tave...  \n",
       "9     28.9 Kč/l  https://www.rohlik.cz/1420012-pragolaktos-trva...  "
      ],
      "text/html": [
       "<div>\n",
       "<style scoped>\n",
       "    .dataframe tbody tr th:only-of-type {\n",
       "        vertical-align: middle;\n",
       "    }\n",
       "\n",
       "    .dataframe tbody tr th {\n",
       "        vertical-align: top;\n",
       "    }\n",
       "\n",
       "    .dataframe thead th {\n",
       "        text-align: right;\n",
       "    }\n",
       "</style>\n",
       "<table border=\"1\" class=\"dataframe\">\n",
       "  <thead>\n",
       "    <tr style=\"text-align: right;\">\n",
       "      <th></th>\n",
       "      <th>Název</th>\n",
       "      <th>Cena</th>\n",
       "      <th>Hmotnost</th>\n",
       "      <th>Cena/kg</th>\n",
       "      <th>Odkaz</th>\n",
       "    </tr>\n",
       "  </thead>\n",
       "  <tbody>\n",
       "    <tr>\n",
       "      <th>0</th>\n",
       "      <td>Philadelphia Original Smetanový sýr</td>\n",
       "      <td>68,00 Kč</td>\n",
       "      <td>200 g</td>\n",
       "      <td>340 Kč/kg</td>\n",
       "      <td>https://www.rohlik.cz/1410229-philadelphia-ori...</td>\n",
       "    </tr>\n",
       "    <tr>\n",
       "      <th>1</th>\n",
       "      <td>Philadelphia Original Smetanový sýr</td>\n",
       "      <td>61,90 Kč</td>\n",
       "      <td>125 g</td>\n",
       "      <td>495.2 Kč/kg</td>\n",
       "      <td>https://www.rohlik.cz/761943-philadelphia-orig...</td>\n",
       "    </tr>\n",
       "    <tr>\n",
       "      <th>2</th>\n",
       "      <td>Président Delikátní tvaroh pažitka</td>\n",
       "      <td>27,90 Kč</td>\n",
       "      <td>125 g</td>\n",
       "      <td>223.2 Kč/kg</td>\n",
       "      <td>https://www.rohlik.cz/1437935-president-delika...</td>\n",
       "    </tr>\n",
       "    <tr>\n",
       "      <th>3</th>\n",
       "      <td>Président Delikátní tvaroh ředkvička</td>\n",
       "      <td>27,90 Kč</td>\n",
       "      <td>125 g</td>\n",
       "      <td>223.2 Kč/kg</td>\n",
       "      <td>https://www.rohlik.cz/1437934-president-delika...</td>\n",
       "    </tr>\n",
       "    <tr>\n",
       "      <th>4</th>\n",
       "      <td>Président Delikátní tvaroh rajče</td>\n",
       "      <td>27,90 Kč</td>\n",
       "      <td>125 g</td>\n",
       "      <td>223.2 Kč/kg</td>\n",
       "      <td>https://www.rohlik.cz/1437936-president-delika...</td>\n",
       "    </tr>\n",
       "    <tr>\n",
       "      <th>5</th>\n",
       "      <td>Président Delikátní tvaroh</td>\n",
       "      <td>27,90 Kč</td>\n",
       "      <td>125 g</td>\n",
       "      <td>223.2 Kč/kg</td>\n",
       "      <td>https://www.rohlik.cz/1437933-president-delika...</td>\n",
       "    </tr>\n",
       "    <tr>\n",
       "      <th>6</th>\n",
       "      <td>Eru Gouda tavený sýr</td>\n",
       "      <td>36,90 Kč</td>\n",
       "      <td>100 g</td>\n",
       "      <td>369 Kč/kg</td>\n",
       "      <td>https://www.rohlik.cz/1437187-eru-gouda-taveny...</td>\n",
       "    </tr>\n",
       "    <tr>\n",
       "      <th>7</th>\n",
       "      <td>Pragolaktos Trvanlivé plnotučné mléko bez lakt...</td>\n",
       "      <td>30,90 Kč</td>\n",
       "      <td>1 l</td>\n",
       "      <td>30.9 Kč/l</td>\n",
       "      <td>https://www.rohlik.cz/1422152-pragolaktos-trva...</td>\n",
       "    </tr>\n",
       "    <tr>\n",
       "      <th>8</th>\n",
       "      <td>Parmareggio Tavený sýr s Parmigiano Reggiano</td>\n",
       "      <td>55,40 Kč</td>\n",
       "      <td>140 g</td>\n",
       "      <td>395.71 Kč/kg</td>\n",
       "      <td>https://www.rohlik.cz/1376087-parmareggio-tave...</td>\n",
       "    </tr>\n",
       "    <tr>\n",
       "      <th>9</th>\n",
       "      <td>Pragolaktos Trvanlivé mléko 3,5% plnotučné</td>\n",
       "      <td>28,90 Kč</td>\n",
       "      <td>1 l</td>\n",
       "      <td>28.9 Kč/l</td>\n",
       "      <td>https://www.rohlik.cz/1420012-pragolaktos-trva...</td>\n",
       "    </tr>\n",
       "  </tbody>\n",
       "</table>\n",
       "</div>"
      ]
     },
     "execution_count": 28,
     "metadata": {},
     "output_type": "execute_result"
    }
   ],
   "execution_count": 28
  },
  {
   "metadata": {
    "ExecuteTime": {
     "end_time": "2025-03-09T17:28:49.252602Z",
     "start_time": "2025-03-09T17:28:49.236729Z"
    }
   },
   "cell_type": "code",
   "source": [
    "df.to_csv(\"rohlik.csv\", index=False, encoding=\"utf-8\")\n",
    "print(\"✅ Data byla uložena do souboru rohlik.csv\")\n"
   ],
   "id": "8d16843a0c2fad61",
   "outputs": [
    {
     "name": "stdout",
     "output_type": "stream",
     "text": [
      "✅ Data byla uložena do souboru rohlik.csv\n"
     ]
    }
   ],
   "execution_count": 29
  }
 ],
 "metadata": {
  "kernelspec": {
   "display_name": "Python 3",
   "language": "python",
   "name": "python3"
  },
  "language_info": {
   "codemirror_mode": {
    "name": "ipython",
    "version": 2
   },
   "file_extension": ".py",
   "mimetype": "text/x-python",
   "name": "python",
   "nbconvert_exporter": "python",
   "pygments_lexer": "ipython2",
   "version": "2.7.6"
  }
 },
 "nbformat": 4,
 "nbformat_minor": 5
}
